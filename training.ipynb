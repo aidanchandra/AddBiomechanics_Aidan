{
 "cells": [
  {
   "cell_type": "code",
   "execution_count": 1,
   "metadata": {},
   "outputs": [
    {
     "ename": "NameError",
     "evalue": "name 'train_data' is not defined",
     "output_type": "error",
     "traceback": [
      "\u001b[0;31m---------------------------------------------------------------------------\u001b[0m",
      "\u001b[0;31mNameError\u001b[0m                                 Traceback (most recent call last)",
      "Cell \u001b[0;32mIn[1], line 59\u001b[0m\n\u001b[1;32m     55\u001b[0m         \u001b[39mreturn\u001b[39;00m predictions\n\u001b[1;32m     57\u001b[0m \u001b[39m# Example Usage:\u001b[39;00m\n\u001b[1;32m     58\u001b[0m \u001b[39m# Assuming `train_data` and `test_data` are your two dataframes\u001b[39;00m\n\u001b[0;32m---> 59\u001b[0m classifier \u001b[39m=\u001b[39m VideoLSTMClassifier(train_data, test_data, n_features\u001b[39m=\u001b[39mtrain_data\u001b[39m.\u001b[39mshape[\u001b[39m1\u001b[39m] \u001b[39m-\u001b[39m \u001b[39m2\u001b[39m)\n\u001b[1;32m     60\u001b[0m classifier\u001b[39m.\u001b[39mtrain(epochs\u001b[39m=\u001b[39m\u001b[39m5\u001b[39m)\n\u001b[1;32m     61\u001b[0m classifier\u001b[39m.\u001b[39mevaluate()\n",
      "\u001b[0;31mNameError\u001b[0m: name 'train_data' is not defined"
     ]
    },
    {
     "ename": "",
     "evalue": "",
     "output_type": "error",
     "traceback": [
      "\u001b[1;31mThe Kernel crashed while executing code in the the current cell or a previous cell. Please review the code in the cell(s) to identify a possible cause of the failure. Click <a href='https://aka.ms/vscodeJupyterKernelCrash'>here</a> for more info. View Jupyter <a href='command:jupyter.viewOutput'>log</a> for further details."
     ]
    }
   ],
   "source": [
    "import numpy as np\n",
    "import pandas as pd\n",
    "from tensorflow.keras.models import Sequential\n",
    "from tensorflow.keras.layers import LSTM, Dense\n",
    "from tensorflow.keras.utils import Sequence\n",
    "from concurrent.futures import ThreadPoolExecutor\n",
    "import logging\n",
    "\n",
    "logging.basicConfig(level=logging.DEBUG)\n",
    "\n",
    "class VideoLSTMClassifier:\n",
    "    def __init__(self, train_df, test_df, n_features, lstm_units=50):\n",
    "        self.train_df = train_df\n",
    "        self.test_df = test_df\n",
    "        self.n_features = n_features\n",
    "        self.lstm_units = lstm_units\n",
    "        self.model = self.build_model()\n",
    "\n",
    "    def build_model(self):\n",
    "        model = Sequential()\n",
    "        model.add(LSTM(self.lstm_units, activation='relu', input_shape=(None, self.n_features)))\n",
    "        model.add(Dense(1, activation='sigmoid'))\n",
    "        model.compile(optimizer='adam', loss='binary_crossentropy', metrics=['accuracy'])\n",
    "        return model\n",
    "\n",
    "    def generator(self, df):\n",
    "        while True:\n",
    "            for _, group in df.groupby(\"capture_id\"):\n",
    "                group = group.sort_values(by=\"frame_id\")  # Ensure frames are in chronological order\n",
    "                \n",
    "                # Excluding capture_id, frame_id, and label columns to get feature values\n",
    "                X = group.drop(columns=[\"capture_id\", \"frame_id\", \"label\"]).values \n",
    "                \n",
    "                # Assuming each video (or capture_id) has a single label for the entire video\n",
    "                y = group[\"label\"].values[0]\n",
    "                \n",
    "                yield X[np.newaxis, :, :], np.array([[y]])\n",
    "\n",
    "    def train(self, epochs=10):\n",
    "        logging.debug(\"Training started...\")\n",
    "        train_gen = self.generator(self.train_df)\n",
    "        n_samples = self.train_df[\"capture_id\"].nunique()\n",
    "        self.model.fit(train_gen, steps_per_epoch=n_samples, epochs=epochs)\n",
    "        logging.debug(\"Training completed.\")\n",
    "\n",
    "    def evaluate(self):\n",
    "        logging.debug(\"Evaluation started...\")\n",
    "        test_gen = self.generator(self.test_df)\n",
    "        n_samples = self.test_df[\"capture_id\"].nunique()\n",
    "        results = self.model.evaluate(test_gen, steps=n_samples)\n",
    "        logging.debug(f\"Loss: {results[0]}, Accuracy: {results[1]}\")\n",
    "        return results\n",
    "\n",
    "    def predict(self, video_data):\n",
    "        return self.model.predict(video_data)\n",
    "\n",
    "    def multi_threaded_predict(self, num_threads=4):\n",
    "        with ThreadPoolExecutor(max_workers=num_threads) as executor:\n",
    "            video_groups = [group for _, group in self.test_df.groupby(\"capture_id\")]\n",
    "            predictions = list(executor.map(self.predict, video_groups))\n",
    "        return predictions\n",
    "\n",
    "# Example Usage:\n",
    "# Assuming `train_data` and `test_data` are your two dataframes\n",
    "classifier = VideoLSTMClassifier(train_data, test_data, n_features=train_data.shape[1] - 3)  # Excluded one more column: \"frame_id\"\n",
    "classifier.train(epochs=5)\n",
    "classifier.evaluate()\n",
    "predictions = classifier.multi_threaded_predict(num_threads=8)"
   ]
  }
 ],
 "metadata": {
  "kernelspec": {
   "display_name": "cvpr",
   "language": "python",
   "name": "python3"
  },
  "language_info": {
   "codemirror_mode": {
    "name": "ipython",
    "version": 3
   },
   "file_extension": ".py",
   "mimetype": "text/x-python",
   "name": "python",
   "nbconvert_exporter": "python",
   "pygments_lexer": "ipython3",
   "version": "3.9.18"
  },
  "orig_nbformat": 4
 },
 "nbformat": 4,
 "nbformat_minor": 2
}
